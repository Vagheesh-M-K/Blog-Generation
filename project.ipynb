{
 "cells": [
  {
   "cell_type": "code",
   "execution_count": 2,
   "metadata": {},
   "outputs": [],
   "source": [
    "from langchain.prompts import PromptTemplate\n",
    "template= \"Write an engaging, interesting blog in about {n_words} words on the topic {topic}\\\n",
    "      for {target_audience}.Reherse\\re-study\\re-visit the initially created content if any modification\\\n",
    "        is deemed appropriate\"\n",
    "prompt_template = PromptTemplate(template = template, input_variables =\n",
    "                                  ['n_words', 'topic', 'target_audience'])"
   ]
  },
  {
   "cell_type": "code",
   "execution_count": 3,
   "metadata": {},
   "outputs": [
    {
     "name": "stderr",
     "output_type": "stream",
     "text": [
      "g:\\GENAI - Project 4 - Blog Generation using LLama2\\venv\\lib\\site-packages\\tqdm\\auto.py:21: TqdmWarning: IProgress not found. Please update jupyter and ipywidgets. See https://ipywidgets.readthedocs.io/en/stable/user_install.html\n",
      "  from .autonotebook import tqdm as notebook_tqdm\n"
     ]
    }
   ],
   "source": [
    "from langchain_community.llms import CTransformers\n",
    "llm = CTransformers(model='model\\llama-2-7b-chat.ggmlv3.q8_0.bin', model_type=\"llama\", config = \n",
    "              {'temperature' : 0.3, 'max_new_tokens' : 256}, verbose = True, \n",
    "              )"
   ]
  },
  {
   "cell_type": "code",
   "execution_count": 4,
   "metadata": {},
   "outputs": [],
   "source": [
    "def generate_blog(num_words,topic_required,target_audience) :\n",
    "    formatted_prompt_template= prompt_template.format(n_words = num_words,topic = topic_required,\n",
    "                           target_audience = target_audience)\n",
    "    response = llm(formatted_prompt_template)\n",
    "    return response\n",
    "    \n"
   ]
  },
  {
   "cell_type": "code",
   "execution_count": 11,
   "metadata": {},
   "outputs": [
    {
     "name": "stderr",
     "output_type": "stream",
     "text": [
      "g:\\GENAI - Project 4 - Blog Generation using LLama2\\venv\\lib\\site-packages\\langchain_core\\_api\\deprecation.py:117: LangChainDeprecationWarning: The function `__call__` was deprecated in LangChain 0.1.7 and will be removed in 0.2.0. Use invoke instead.\n",
      "  warn_deprecated(\n"
     ]
    }
   ],
   "source": [
    "generate_blog(10, 'genAI', 'students')"
   ]
  },
  {
   "cell_type": "code",
   "execution_count": 5,
   "metadata": {},
   "outputs": [],
   "source": [
    "from langchain_openai import OpenAI\n",
    "from dotenv import load_dotenv\n",
    "load_dotenv()\n",
    "llm = OpenAI()\n",
    "invokee = llm.invoke('Capital of India')"
   ]
  },
  {
   "cell_type": "code",
   "execution_count": 6,
   "metadata": {},
   "outputs": [],
   "source": [
    "normal = llm('Capital of India')"
   ]
  },
  {
   "cell_type": "code",
   "execution_count": 7,
   "metadata": {},
   "outputs": [
    {
     "name": "stdout",
     "output_type": "stream",
     "text": [
      "\n",
      "\n",
      "New Delhi\n",
      "\n",
      "New Delhi is the capital of India, located in the northern part of the country. It is a bustling metropolis and one of the most populous cities in the world. New Delhi is home to some of the most iconic landmarks and historical sites in India, such as the Red Fort, India Gate, and the Lotus Temple. It is also the center of government and politics in India, housing the Parliament and the offices of the Prime Minister and President.\n",
      "\n",
      "New Delhi was established as the capital of India in 1911, replacing the old capital of Calcutta (now Kolkata). It was designed by British architects Sir Edwin Lutyens and Sir Herbert Baker, who incorporated elements of both Western and Indian architecture into the city's design. The city is divided into two parts: New Delhi, which serves as the administrative center, and Old Delhi, which is known for its narrow streets, bustling markets, and historic monuments.\n",
      "\n",
      "New Delhi is a major cultural and commercial hub, with a vibrant mix of old and new. It is home to a diverse population and is known for its rich heritage, art, and cuisine. The city also has a well-developed infrastructure, with modern amenities and transportation networks. It is a popular tourist destination, attracting visitors from all over\n"
     ]
    }
   ],
   "source": [
    "print(normal)"
   ]
  },
  {
   "cell_type": "code",
   "execution_count": 6,
   "metadata": {},
   "outputs": [],
   "source": [
    "ernst_brief = \"\"\"Ernest Miller Hemingway (/ˈɜːrnɪst ˈhɛmɪŋweɪ/; July 21, 1899 – July 2, 1961) was an American novelist, short-story writer and journalist. Best known for an economical, understated style that significantly influenced later 20th-century writers, he is often romanticized for his adventurous lifestyle, and outspoken and blunt public image. Most of Hemingway's works were published between the mid-1920s and mid-1950s, including seven novels, six short-story collections and two non-fiction works. His writings have become classics of American literature; he was awarded the 1954 Nobel Prize in Literature, while three of his novels, four short-story collections and three nonfiction works were published posthumously.\n",
    "\n",
    "Hemingway was raised in Oak Park, Illinois. After high school, he spent six months as a cub reporter for The Kansas City Star before enlisting in the Red Cross. He served as an ambulance driver on the Italian Front in World War I and was seriously wounded in 1918. His wartime experiences formed the basis for his 1929 novel A Farewell to Arms. He married Hadley Richardson in 1921, the first of four wives. They moved to Paris where he worked as a foreign correspondent for the Toronto Star[1] and fell under the influence of the modernist writers and artists of the 1920s' \"Lost Generation\" expatriate community. His debut novel The Sun Also Rises was published in 1926.\"\"\""
   ]
  },
  {
   "cell_type": "code",
   "execution_count": null,
   "metadata": {},
   "outputs": [],
   "source": []
  },
  {
   "cell_type": "code",
   "execution_count": 7,
   "metadata": {},
   "outputs": [],
   "source": [
    "from langchain.chains.summarize import load_summarize_chain\n",
    "from langchain.prompts import PromptTemplate\n",
    "template = '''Summarise the following description in about 20 words .\n",
    "text to be summarized : `{text}`\n",
    " '''\n",
    "promptt = PromptTemplate(template=template, input_variables=['text', 'language'])\n",
    "from langchain_openai import ChatOpenAI\n",
    "llm = OpenAI()\n",
    "chain= load_summarize_chain(llm = llm, chain_type=\"stuff\", prompt= promptt)\n",
    "\n",
    "from langchain.document_loaders import WebBaseLoader"
   ]
  },
  {
   "cell_type": "code",
   "execution_count": 98,
   "metadata": {},
   "outputs": [
    {
     "data": {
      "text/plain": [
       "['input_documents', 'language']"
      ]
     },
     "execution_count": 98,
     "metadata": {},
     "output_type": "execute_result"
    }
   ],
   "source": [
    "chain.input_keys"
   ]
  },
  {
   "cell_type": "code",
   "execution_count": 103,
   "metadata": {},
   "outputs": [
    {
     "data": {
      "text/plain": [
       "{'output_text': '\\nAmerican novelist and journalist Ernest Hemingway is known for his influential writing style and adventurous lifestyle. He was awarded the Nobel Prize in Literature and wrote several acclaimed novels and short story collections. He was also a war veteran and spent time in Paris.'}"
      ]
     },
     "execution_count": 103,
     "metadata": {},
     "output_type": "execute_result"
    }
   ],
   "source": [
    "from langchain.docstore.document import Document\n",
    "# chain.run(text = [Document(page_content=ernst_brief)], language = 'hindi')\n",
    "chain.invoke({'input_documents' : [Document(page_content=ernst_brief)], 'language' : 'hindi'}, return_only_outputs = True)``"
   ]
  },
  {
   "cell_type": "code",
   "execution_count": null,
   "metadata": {},
   "outputs": [],
   "source": [
    "#1) Load the data and make sure it is stored as a list of documents\n",
    "#2) split the data using RecursiveCharacterTextSplitter or CharacterTextSplitter\n",
    "#3) chain = load_summary_chain(chain_type = 'map_reduce, llm = OpenAI(), map_prompt = , combine_prompt = )\n",
    "#4) chain.invoke({}) , after checking chain.input_keys\n"
   ]
  }
 ],
 "metadata": {
  "kernelspec": {
   "display_name": "Python 3",
   "language": "python",
   "name": "python3"
  },
  "language_info": {
   "codemirror_mode": {
    "name": "ipython",
    "version": 3
   },
   "file_extension": ".py",
   "mimetype": "text/x-python",
   "name": "python",
   "nbconvert_exporter": "python",
   "pygments_lexer": "ipython3",
   "version": "3.9.18"
  }
 },
 "nbformat": 4,
 "nbformat_minor": 2
}
